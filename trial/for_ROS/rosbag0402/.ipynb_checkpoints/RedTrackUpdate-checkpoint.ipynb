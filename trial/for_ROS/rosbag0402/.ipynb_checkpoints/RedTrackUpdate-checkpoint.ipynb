{
 "metadata": {
  "name": "",
  "signature": "sha256:2927fe4018e9c531fc762f6cda6df38d2678f495674a9c3cd150685d3a410a57"
 },
 "nbformat": 3,
 "nbformat_minor": 0,
 "worksheets": []
}